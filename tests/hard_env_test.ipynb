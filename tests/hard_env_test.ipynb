{
 "cells": [
  {
   "cell_type": "code",
   "execution_count": 85,
   "metadata": {
    "collapsed": false,
    "deletable": true,
    "editable": true
   },
   "outputs": [
    {
     "name": "stdout",
     "output_type": "stream",
     "text": [
      "The nengo.ipynb extension is already loaded. To reload it, use:\n",
      "  %reload_ext nengo.ipynb\n"
     ]
    }
   ],
   "source": [
    "import numpy as np\n",
    "import matplotlib.pyplot as plt\n",
    "%matplotlib inline\n",
    "\n",
    "import nengo\n",
    "%load_ext nengo.ipynb\n",
    "\n",
    "from adder_env import create_adder_env\n",
    "from constants import *\n",
    "import logging\n",
    "from random import shuffle\n",
    "\n",
    "q_list = [(0,0,0,1), (0,0,1,0), (0,1,0,0), (1,0,0,0)]\n",
    "ans_list = [(-1,1), (1,-1), (1,1), (-1,-1)]"
   ]
  },
  {
   "cell_type": "code",
   "execution_count": 93,
   "metadata": {
    "collapsed": false,
    "deletable": true,
    "editable": true
   },
   "outputs": [
    {
     "data": {
      "text/plain": [
       "<Network \"test\" at 0x7f7cd7e7d990>"
      ]
     },
     "execution_count": 93,
     "metadata": {},
     "output_type": "execute_result"
    }
   ],
   "source": [
    "logging.basicConfig(filename='env.log',level=logging.DEBUG)\n",
    "\n",
    "def create_adder_env(q_list, ans_list, op_val):\n",
    "    with nengo.Network(label=\"env\") as env:\n",
    "        env.env_cls = AdderEnv(q_list, ans_list, op_val)\n",
    "\n",
    "        env.get_ans = nengo.Node(env.env_cls.get_answer)\n",
    "        env.set_ans = nengo.Node(env.env_cls.set_answer, size_in=D)\n",
    "        env.env_keys = nengo.Node(env.env_cls.input_func)\n",
    "\n",
    "        env.op_in = nengo.Node(env.env_cls.op_state_input)\n",
    "        env.q_in = nengo.Node(env.env_cls.q_inputs)\n",
    "        env.learning = nengo.Node(lambda t: env.env_cls.learning)\n",
    "        env.gate = nengo.Node(lambda t: env.env_cls.gate)\n",
    "    return env\n",
    "\n",
    "\n",
    "class AdderEnv():\n",
    "\n",
    "    def __init__(self, q_list, ans_list, op_val):\n",
    "        ## Bunch of time constants\n",
    "        self.rest = 0.05\n",
    "        self.ans_duration = 0.3\n",
    "        self.q_duration = 0.07\n",
    "        self.op_duration = 0.05\n",
    "\n",
    "        ## Value variables\n",
    "        self.list_index = 0\n",
    "        self.q_list = q_list\n",
    "        self.ans_list = ans_list\n",
    "        self.op_val = op_val\n",
    "        self.num_items = len(q_list)\n",
    "        self.indices = range(self.num_items)\n",
    "        self.gate = 0\n",
    "\n",
    "        ## Timing variables\n",
    "        self.learning = False\n",
    "        self.ans_arrive = 0.0\n",
    "        self.time = 0.0\n",
    "        self.chill = False\n",
    "\n",
    "    def input_func(self, t):\n",
    "        if self.time > self.rest:\n",
    "            return self.q_list[self.indices[self.list_index]]\n",
    "        else:\n",
    "            return np.zeros(2*D)\n",
    "\n",
    "    def q_inputs(self, t):\n",
    "        if self.time > self.rest and self.time < (self.q_duration + self.rest):\n",
    "            return self.q_list[self.indices[self.list_index]]\n",
    "        else:\n",
    "            return np.zeros(2*D)\n",
    "\n",
    "    def op_state_input(self, t):\n",
    "        if self.time > self.rest and self.time < (self.op_duration + self.rest):\n",
    "            return self.op_val\n",
    "        else:\n",
    "            return np.zeros(len(self.op_val))\n",
    "\n",
    "    def get_answer(self, t):\n",
    "        if t < (self.ans_arrive + self.ans_duration) and self.ans_arrive != 0.0:\n",
    "            return self.ans_list[self.indices[self.list_index]]\n",
    "        else:\n",
    "            return np.zeros(D)\n",
    "\n",
    "    def set_answer(self, t, x):\n",
    "        \"\"\"Time keeping function.\n",
    "\n",
    "        if there's some sort of answer coming from the basal-ganglia,\n",
    "        detected by the norm not being (effectively) zero, give feedback for\n",
    "        a certain amount of time before resetting the answer and starting the\n",
    "        system again\n",
    "        \"\"\"\n",
    "        self.time += dt\n",
    "\n",
    "        mag = np.linalg.norm(x)\n",
    "\n",
    "        # while getting answer\n",
    "        if mag > 0.3 and not self.chill:\n",
    "\n",
    "            if self.ans_arrive == 0.0:\n",
    "                print(\"ANS %s\" %t)\n",
    "                # TODO: is this gate right?\n",
    "                self.gate = 1\n",
    "                self.ans_arrive = t\n",
    "                self.learning = True\n",
    "                # TODO: Make this check suck less\n",
    "                if self.ans_list[self.indices[self.list_index]] != tuple(x):\n",
    "                    logging.debug(\"%s != %s\" %(self.ans_list[self.indices[self.list_index]], x))\n",
    "            elif t > (self.ans_arrive + self.ans_duration):\n",
    "                print(\"chill: %s\" %t)\n",
    "                self.ans_arrive = 0.0\n",
    "                self.gate = 0\n",
    "                self.chill = True\n",
    "                self.learning = False\n",
    "\n",
    "        elif mag < 0.3 and self.chill:\n",
    "            print(\"stop chilling: %s\" %t)\n",
    "            \n",
    "            if self.list_index < self.num_items - 1:\n",
    "                self.list_index += 1\n",
    "                print(\"after increment: %s \\n\" %self.list_index)\n",
    "            else:\n",
    "                shuffle(self.indices)\n",
    "                self.list_index = 0\n",
    "\n",
    "\n",
    "            self.chill = False\n",
    "            self.time = 0.0\n",
    "\n",
    "with nengo.Network(label=\"test\") as model:\n",
    "    env = create_adder_env(q_list, ans_list, (1,))\n",
    "\n",
    "    # questions and op_state are given at the correct interval\n",
    "    # and are swapped once an answer is given\n",
    "    q_node = nengo.Node(size_in=D*2)\n",
    "    op_node = nengo.Node(size_in=1)\n",
    "\n",
    "    # input is given constantly throughout\n",
    "    in_node = nengo.Node(size_in=D*2)\n",
    "\n",
    "    def ans_func(t):\n",
    "        if t < 0.1:\n",
    "            return (0, 0)\n",
    "        elif t < 0.45:\n",
    "            return (-1,1)\n",
    "        elif t < 0.6:\n",
    "            return (0, 0)\n",
    "        elif t < 0.95:\n",
    "            return (1,-1)\n",
    "        elif t < 1.0:\n",
    "            return (0, 0)\n",
    "        elif t < 1.35:\n",
    "            return (1, 1)\n",
    "        elif t < 1.8:\n",
    "            return (0, 0)\n",
    "        elif t < 2.15:\n",
    "            return (-1, -1)\n",
    "        elif t < 2.2:\n",
    "            return (0, 0)\n",
    "        elif t < 2.55:\n",
    "            return ans_list[env.env_cls.list_index]\n",
    "        elif t < 2.6:\n",
    "            return (0, 0)\n",
    "        elif t < 2.95:\n",
    "            return ans_list[env.env_cls.list_index]\n",
    "        else:\n",
    "            return (0, 0)\n",
    "\n",
    "    # answers can be given at different intervals\n",
    "    ans_in = nengo.Node(ans_func)\n",
    "\n",
    "    # the correct answer is returned\n",
    "    ans_out = nengo.Node(size_in=D)\n",
    "\n",
    "    # learning is maintained for a given interval\n",
    "    learn_node = nengo.Node(size_in=1)\n",
    "\n",
    "    # gate is '0' while waiting for answer\n",
    "    gate_node = nengo.Node(size_in=1)\n",
    "\n",
    "    nengo.Connection(env.q_in, q_node, synapse=None)\n",
    "    nengo.Connection(env.op_in, op_node, synapse=None)\n",
    "    nengo.Connection(env.env_keys, in_node, synapse=None)\n",
    "    nengo.Connection(ans_in, env.set_ans, synapse=None)\n",
    "    nengo.Connection(env.get_ans, ans_out, synapse=None)\n",
    "    nengo.Connection(env.learning, learn_node, synapse=None)\n",
    "    nengo.Connection(env.gate, gate_node, synapse=None)\n",
    "\n",
    "    p_q = nengo.Probe(env.q_in, synapse=None)\n",
    "    p_op = nengo.Probe(env.op_in, synapse=None)\n",
    "    p_keys = nengo.Probe(env.env_keys, synapse=None)\n",
    "    p_ans = nengo.Probe(env.get_ans, synapse=None)\n",
    "    p_learn = nengo.Probe(env.learning, synapse=None)\n",
    "    p_gate = nengo.Probe(env.gate, synapse=None)\n",
    "\n",
    "    p_in = nengo.Probe(ans_in, synapse=None)\n",
    "\n",
    "model"
   ]
  },
  {
   "cell_type": "code",
   "execution_count": 94,
   "metadata": {
    "collapsed": false,
    "deletable": true,
    "editable": true
   },
   "outputs": [
    {
     "name": "stdout",
     "output_type": "stream",
     "text": [
      "ANS 0.1\n",
      "chill: 0.41\n",
      "stop chilling: 0.45\n",
      "after increment: 1 \n",
      "\n",
      "ANS 0.6\n",
      "chill: 0.9\n",
      "stop chilling: 0.95\n",
      "after increment: 2 \n",
      "\n",
      "ANS 1.0\n",
      "chill: 1.31\n",
      "stop chilling: 1.35\n",
      "after increment: 3 \n",
      "\n",
      "ANS 1.8\n",
      "chill: 2.11\n",
      "stop chilling: 2.15\n",
      "ANS 2.2\n",
      "chill: 2.51\n",
      "stop chilling: 2.55\n",
      "after increment: 1 \n",
      "\n",
      "ANS 2.6\n",
      "chill: 2.91\n",
      "stop chilling: 2.95\n",
      "after increment: 2 \n",
      "\n"
     ]
    }
   ],
   "source": [
    "sim = nengo.Simulator(model, dt=dt)\n",
    "sim.run(3.0)\n",
    "t = sim.trange()"
   ]
  },
  {
   "cell_type": "code",
   "execution_count": 95,
   "metadata": {
    "collapsed": false,
    "deletable": true,
    "editable": true
   },
   "outputs": [
    {
     "data": {
      "text/plain": [
       "[<matplotlib.lines.Line2D at 0x7f7cd7daac50>]"
      ]
     },
     "execution_count": 95,
     "metadata": {},
     "output_type": "execute_result"
    },
    {
     "data": {
      "image/png": "[encoded data removed]",
      "text/plain": [
       "<matplotlib.figure.Figure at 0x7f7cda3a5950>"
      ]
     },
     "metadata": {},
     "output_type": "display_data"
    },
    {
     "data": {
      "image/png": "[encoded data removed]",
      "text/plain": [
       "<matplotlib.figure.Figure at 0x7f7cd79b0fd0>"
      ]
     },
     "metadata": {},
     "output_type": "display_data"
    }
   ],
   "source": [
    "plt.figure()\n",
    "plt.title(\"answer in\")\n",
    "plt.plot(t, sim.data[p_in])\n",
    "plt.ylim(-1.1, 1.1)\n",
    "plt.figure()\n",
    "plt.title(\"answer out and learning\")\n",
    "plt.plot(t, sim.data[p_ans])\n",
    "plt.ylim(-1.1, 1.1)\n",
    "plt.plot(t, sim.data[p_learn])"
   ]
  },
  {
   "cell_type": "code",
   "execution_count": 96,
   "metadata": {
    "collapsed": false,
    "deletable": true,
    "editable": true
   },
   "outputs": [
    {
     "data": {
      "text/plain": [
       "(-1.1, 1.1)"
      ]
     },
     "execution_count": 96,
     "metadata": {},
     "output_type": "execute_result"
    },
    {
     "data": {
      "image/png": "[encoded data removed]",
      "text/plain": [
       "<matplotlib.figure.Figure at 0x7f7cd7772b10>"
      ]
     },
     "metadata": {},
     "output_type": "display_data"
    }
   ],
   "source": [
    "plt.figure()\n",
    "plt.title(\"op and q\")\n",
    "plt.plot(t, sim.data[p_op])\n",
    "plt.plot(t, sim.data[p_q])\n",
    "plt.ylim(-1.1, 1.1)"
   ]
  },
  {
   "cell_type": "code",
   "execution_count": 97,
   "metadata": {
    "collapsed": false,
    "deletable": true,
    "editable": true
   },
   "outputs": [
    {
     "data": {
      "text/plain": [
       "(-1.1, 1.1)"
      ]
     },
     "execution_count": 97,
     "metadata": {},
     "output_type": "execute_result"
    },
    {
     "data": {
      "image/png": "[encoded data removed]",
      "text/plain": [
       "<matplotlib.figure.Figure at 0x7f7cda845fd0>"
      ]
     },
     "metadata": {},
     "output_type": "display_data"
    }
   ],
   "source": [
    "plt.figure()\n",
    "plt.title(\"op and q\")\n",
    "plt.plot(t, sim.data[p_op])\n",
    "plt.ylim(-1.1, 1.1)"
   ]
  },
  {
   "cell_type": "code",
   "execution_count": 98,
   "metadata": {
    "collapsed": false,
    "deletable": true,
    "editable": true
   },
   "outputs": [
    {
     "data": {
      "text/plain": [
       "(-1.1, 1.1)"
      ]
     },
     "execution_count": 98,
     "metadata": {},
     "output_type": "execute_result"
    },
    {
     "data": {
      "image/png": "[encoded data removed]",
      "text/plain": [
       "<matplotlib.figure.Figure at 0x7f7cda20cdd0>"
      ]
     },
     "metadata": {},
     "output_type": "display_data"
    }
   ],
   "source": [
    "plt.figure()\n",
    "plt.title(\"keys\")\n",
    "plt.plot(t, sim.data[p_keys])\n",
    "plt.ylim(-1.1, 1.1)"
   ]
  },
  {
   "cell_type": "code",
   "execution_count": null,
   "metadata": {
    "collapsed": true,
    "deletable": true,
    "editable": true
   },
   "outputs": [],
   "source": []
  }
 ],
 "metadata": {
  "kernelspec": {
   "display_name": "Python 3",
   "language": "python",
   "name": "python3"
  },
  "language_info": {
   "codemirror_mode": {
    "name": "ipython",
    "version": 3
   },
   "file_extension": ".py",
   "mimetype": "text/x-python",
   "name": "python",
   "nbconvert_exporter": "python",
   "pygments_lexer": "ipython3",
   "version": "3.5.2+"
  }
 },
 "nbformat": 4,
 "nbformat_minor": 0
}
