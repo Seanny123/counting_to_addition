{
 "cells": [
  {
   "cell_type": "code",
   "execution_count": 2,
   "metadata": {
    "collapsed": false
   },
   "outputs": [
    {
     "name": "stdout",
     "output_type": "stream",
     "text": [
      "ONE+TWO+THREE+FOUR\n"
     ]
    }
   ],
   "source": [
    "import nengo\n",
    "%load_ext nengo.ipynb\n",
    "from nengo import spa\n",
    "from collections import OrderedDict\n",
    "\n",
    "D = 64\n",
    "vocab = spa.Vocabulary(D, unitary=[\"ONE\"])\n",
    "number_dict = {\"ONE\":1, \"TWO\":2, \"THREE\":3, \"FOUR\":4, \"FIVE\":5,\n",
    "               \"SIX\":6, \"SEVEN\":7, \"EIGHT\":8, \"NINE\":9}\n",
    "number_ordered = OrderedDict(sorted(number_dict.items(), key=lambda t: t[1]))\n",
    "\n",
    "number_range = 4\n",
    "vocab.parse(\"NONE\")\n",
    "vocab.parse(\"ONE\")\n",
    "number_list = number_ordered.keys()\n",
    "for i in range(number_range):\n",
    "    vocab.add(number_list[i+1], vocab.parse(\"%s*ONE\" % number_list[i]))\n",
    "\n",
    "join_num = \"+\".join(number_list[0:number_range])\n",
    "num_ord_filt = OrderedDict(number_ordered.items()[:number_range])\n",
    "\n",
    "print(join_num)\n",
    "\n",
    "model = spa.SPA(vocab)"
   ]
  },
  {
   "cell_type": "code",
   "execution_count": 3,
   "metadata": {
    "collapsed": true
   },
   "outputs": [],
   "source": [
    "with model:\n",
    "    model.q1 = spa.State(D)\n",
    "    model.q2 = spa.State(D)\n",
    "    model.answer = spa.State(D)\n",
    "    # TODO: add connection from question to answer, maybe intermediate pop?\n",
    "    # Also going to need a bit of a gate...\n",
    "\n",
    "    model.op_state = spa.State(D)\n",
    "\n",
    "    model.count_res = spa.State(D, feedback=1)\n",
    "    model.count_fin = spa.State(D, feedback=1)\n",
    "    model.count_tot = spa.State(D, feedback=1)\n",
    "\n",
    "    model.comp_tot_fin = spa.Compare(D)"
   ]
  },
  {
   "cell_type": "code",
   "execution_count": 4,
   "metadata": {
    "collapsed": true
   },
   "outputs": [],
   "source": [
    "with model:\n",
    "    actions = spa.Actions(\n",
    "        # If the input isn't blank, read it in\n",
    "        on_input=\"dot(q1, %s) + dot(q2, %s) - dot(op_state, COUNTING)--> count_res = q1*ONE, count_tot = ONE, count_fin = q2\" % (join_num, join_num,),\n",
    "        # If we have finished incrementing, keep incrementing\n",
    "        increment=\"dot(op_state, COUNTING) - comp_tot_fin --> count_res = count_res * ONE, count_tot = count_tot * ONE\",\n",
    "        # If we're done incrementing write it to the answer\n",
    "        answer=\"comp_tot_fin - dot(op_state, COUNTING) --> answer = count_res, op_state = NONE\"\n",
    "    )\n",
    "\n",
    "    model.bg = spa.BasalGanglia(actions)\n",
    "    model.thal = spa.Thalamus(model.bg)\n",
    "\n",
    "    cortical_actions = spa.Actions(\n",
    "        \"comp_tot_fin_A = count_fin\",\n",
    "        \"comp_tot_fin_B = count_tot\"\n",
    "    )\n",
    "\n",
    "    model.cortical = spa.Cortical(cortical_actions)"
   ]
  },
  {
   "cell_type": "code",
   "execution_count": 5,
   "metadata": {
    "collapsed": false
   },
   "outputs": [
    {
     "ename": "SyntaxError",
     "evalue": "unexpected EOF while parsing (<ipython-input-5-3f3372c1043f>, line 1)",
     "output_type": "error",
     "traceback": [
      "\u001b[1;36m  File \u001b[1;32m\"<ipython-input-5-3f3372c1043f>\"\u001b[1;36m, line \u001b[1;32m1\u001b[0m\n\u001b[1;33m    with model:\u001b[0m\n\u001b[1;37m               ^\u001b[0m\n\u001b[1;31mSyntaxError\u001b[0m\u001b[1;31m:\u001b[0m unexpected EOF while parsing\n"
     ]
    }
   ],
   "source": [
    "with model:\n",
    "    \n",
    "    "
   ]
  },
  {
   "cell_type": "code",
   "execution_count": null,
   "metadata": {
    "collapsed": true
   },
   "outputs": [],
   "source": [
    "import matplotlib.pyplot as plt\n",
    "%matplotlib inline"
   ]
  },
  {
   "cell_type": "code",
   "execution_count": 1,
   "metadata": {
    "collapsed": false
   },
   "outputs": [
    {
     "ename": "NameError",
     "evalue": "name 'nengo' is not defined",
     "output_type": "error",
     "traceback": [
      "\u001b[1;31m---------------------------------------------------------------------------\u001b[0m",
      "\u001b[1;31mNameError\u001b[0m                                 Traceback (most recent call last)",
      "\u001b[1;32m<ipython-input-1-8bebcb4464cd>\u001b[0m in \u001b[0;36m<module>\u001b[1;34m()\u001b[0m\n\u001b[1;32m----> 1\u001b[1;33m \u001b[0msim\u001b[0m \u001b[1;33m=\u001b[0m \u001b[0mnengo\u001b[0m\u001b[1;33m.\u001b[0m\u001b[0mSimulator\u001b[0m\u001b[1;33m(\u001b[0m\u001b[0mmodel\u001b[0m\u001b[1;33m)\u001b[0m\u001b[1;33m\u001b[0m\u001b[0m\n\u001b[0m",
      "\u001b[1;31mNameError\u001b[0m: name 'nengo' is not defined"
     ]
    }
   ],
   "source": [
    "sim = nengo.Simulator(model)\n",
    "sim.run(1)"
   ]
  }
 ],
 "metadata": {
  "kernelspec": {
   "display_name": "Python 2",
   "language": "python",
   "name": "python2"
  },
  "language_info": {
   "codemirror_mode": {
    "name": "ipython",
    "version": 2
   },
   "file_extension": ".py",
   "mimetype": "text/x-python",
   "name": "python",
   "nbconvert_exporter": "python",
   "pygments_lexer": "ipython2",
   "version": "2.7.6"
  }
 },
 "nbformat": 4,
 "nbformat_minor": 0
}
