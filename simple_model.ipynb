{
 "cells": [
  {
   "cell_type": "code",
   "execution_count": 2,
   "metadata": {
    "collapsed": false
   },
   "outputs": [
    {
     "name": "stdout",
     "output_type": "stream",
     "text": [
      "The nengo.ipynb extension is already loaded. To reload it, use:\n",
      "  %reload_ext nengo.ipynb\n",
      "ONE+TWO+THREE+FOUR\n"
     ]
    }
   ],
   "source": [
    "import nengo\n",
    "%load_ext nengo.ipynb\n",
    "from nengo import spa\n",
    "\n",
    "from collections import OrderedDict\n",
    "\n",
    "D = 32\n",
    "vocab = spa.Vocabulary(D, unitary=[\"ONE\"])\n",
    "number_dict = {\"ONE\":1, \"TWO\":2, \"THREE\":3, \"FOUR\":4, \"FIVE\":5,\n",
    "               \"SIX\":6, \"SEVEN\":7, \"EIGHT\":8, \"NINE\":9}\n",
    "number_ordered = OrderedDict(sorted(number_dict.items(), key=lambda t: t[1]))\n",
    "\n",
    "number_range = 4\n",
    "vocab.parse(\"NONE\")\n",
    "vocab.parse(\"ONE\")\n",
    "number_list = number_ordered.keys()\n",
    "for i in range(number_range):\n",
    "    vocab.add(number_list[i+1], vocab.parse(\"%s*ONE\" % number_list[i]))\n",
    "\n",
    "join_num = \"+\".join(number_list[0:number_range])\n",
    "num_ord_filt = OrderedDict(number_ordered.items()[:number_range])\n",
    "\n",
    "model = spa.SPA(vocab)"
   ]
  },
  {
   "cell_type": "code",
   "execution_count": 3,
   "metadata": {
    "collapsed": true
   },
   "outputs": [],
   "source": [
    "with model:\n",
    "    model.vision = spa.State(D)\n",
    "    model.motor = spa.State(D)\n",
    "    model.mem = spa.State(D, feedback=1)\n",
    "    \n",
    "    actions = spa.Actions(\n",
    "        \"dot(vision, START) --> mem=ONE\",\n",
    "        \"dot(vision, PLUS) --> mem=mem*ONE\",\n",
    "        \"dot(vision, MINUS) --> mem=mem*~ONE\",\n",
    "        \"dot(vision, DONE) --> motor=mem\"\n",
    "    )\n",
    "    \n",
    "    model.bg = spa.BasalGanglia(actions)\n",
    "    model.thal = spa.Thalamus(model.bg)"
   ]
  },
  {
   "cell_type": "code",
   "execution_count": null,
   "metadata": {
    "collapsed": true
   },
   "outputs": [],
   "source": []
  }
 ],
 "metadata": {
  "kernelspec": {
   "display_name": "Python 2",
   "language": "python",
   "name": "python2"
  },
  "language_info": {
   "codemirror_mode": {
    "name": "ipython",
    "version": 2
   },
   "file_extension": ".py",
   "mimetype": "text/x-python",
   "name": "python",
   "nbconvert_exporter": "python",
   "pygments_lexer": "ipython2",
   "version": "2.7.6"
  }
 },
 "nbformat": 4,
 "nbformat_minor": 0
}
